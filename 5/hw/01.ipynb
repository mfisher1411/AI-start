{
  "nbformat": 4,
  "nbformat_minor": 0,
  "metadata": {
    "colab": {
      "provenance": []
    },
    "kernelspec": {
      "name": "python3",
      "display_name": "Python 3"
    },
    "language_info": {
      "name": "python"
    }
  },
  "cells": [
    {
      "cell_type": "markdown",
      "source": [
        "Напишите класс MyNum числа  с конструктором от числа, оператором += и методом get_val() , возвращающим значение."
      ],
      "metadata": {
        "id": "C7AuABUSxSAS"
      }
    },
    {
      "cell_type": "markdown",
      "source": [
        "ссылка в помощь https://stackoverflow.com/questions/1047021/overriding-in-python-iadd-method"
      ],
      "metadata": {
        "id": "KYX43JzxxW7G"
      }
    },
    {
      "cell_type": "code",
      "source": [
        "class MyNum():\n",
        "  def __init__(self, number):\n",
        "    self.number\n",
        "  def __iadd__(self, other):\n",
        "    self.number += other\n",
        "    return self\n",
        "  def get_val(self):\n",
        "    return self.number"
      ],
      "metadata": {
        "id": "np4XGeQsxdUe"
      },
      "execution_count": null,
      "outputs": []
    }
  ]
}