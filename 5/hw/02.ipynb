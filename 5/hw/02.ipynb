{
  "nbformat": 4,
  "nbformat_minor": 0,
  "metadata": {
    "colab": {
      "provenance": []
    },
    "kernelspec": {
      "name": "python3",
      "display_name": "Python 3"
    },
    "language_info": {
      "name": "python"
    }
  },
  "cells": [
    {
      "cell_type": "markdown",
      "source": [
        "Напишите класс MyQueue  очереди  с конструктором по умолчанию и тремя  функциями:\n",
        "\n",
        "push(val) - добавляет значение в очередь,\n",
        "front() - возвращает первый элемент в очереди,\n",
        "pop() - удаляет первый элемент в очереди."
      ],
      "metadata": {
        "id": "Rpbs7yTpGGVr"
      }
    },
    {
      "cell_type": "code",
      "source": [
        "class MyQueue():\n",
        "    def __init__(self):\n",
        "        self.myList = []\n",
        "    def push(self, val):\n",
        "        self.myList.append(val)\n",
        "    def front(self):\n",
        "        return self.myList[0]\n",
        "    def pop(self):\n",
        "        self.myList.pop(0)"
      ],
      "metadata": {
        "id": "_uYSoQsIGIFC"
      },
      "execution_count": null,
      "outputs": []
    }
  ]
}