{
  "nbformat": 4,
  "nbformat_minor": 0,
  "metadata": {
    "colab": {
      "provenance": []
    },
    "kernelspec": {
      "name": "python3",
      "display_name": "Python 3"
    },
    "language_info": {
      "name": "python"
    }
  },
  "cells": [
    {
      "cell_type": "code",
      "execution_count": null,
      "metadata": {
        "id": "EtugGUsFJjyT"
      },
      "outputs": [],
      "source": [
        "Реализуйте функцию calls_num(), которая будет возвращать число предыдущих вызовов данной функции."
      ]
    },
    {
      "cell_type": "code",
      "source": [
        "count = 0"
      ],
      "metadata": {
        "id": "sOx_5Z9lJq4T"
      },
      "execution_count": 1,
      "outputs": []
    },
    {
      "cell_type": "code",
      "source": [
        "def calls_num():\n",
        "  global count\n",
        "  count_local = count\n",
        "  count += 1\n",
        "  return count_local"
      ],
      "metadata": {
        "id": "VuiT6Aj5JxzA"
      },
      "execution_count": 4,
      "outputs": []
    },
    {
      "cell_type": "code",
      "source": [
        "calls_num()"
      ],
      "metadata": {
        "colab": {
          "base_uri": "https://localhost:8080/"
        },
        "id": "QYOMVt35KTJL",
        "outputId": "1a35ba99-f02f-46a0-d51b-0d377a4d142a"
      },
      "execution_count": 6,
      "outputs": [
        {
          "output_type": "execute_result",
          "data": {
            "text/plain": [
              "1"
            ]
          },
          "metadata": {},
          "execution_count": 6
        }
      ]
    },
    {
      "cell_type": "markdown",
      "source": [
        "более изящное решение"
      ],
      "metadata": {
        "id": "bGlSrPikLRVZ"
      }
    },
    {
      "cell_type": "code",
      "source": [
        "b = -1\n",
        "def calls_num2():\n",
        "  global b\n",
        "  b += 1\n",
        "  return b"
      ],
      "metadata": {
        "id": "mPHEsO1jLUGN"
      },
      "execution_count": null,
      "outputs": []
    }
  ]
}