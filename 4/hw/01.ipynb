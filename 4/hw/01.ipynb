{
  "nbformat": 4,
  "nbformat_minor": 0,
  "metadata": {
    "colab": {
      "provenance": []
    },
    "kernelspec": {
      "name": "python3",
      "display_name": "Python 3"
    },
    "language_info": {
      "name": "python"
    }
  },
  "cells": [
    {
      "cell_type": "markdown",
      "source": [
        "Реализуйте функцию almost_double_factorial(n), вычисляющую произведение всех нечётных натуральных чисел, не превосходящих nn.\n",
        "В качестве аргумента ей передаётся натуральное (ноль -- натуральное) число n \\leqslant 100n⩽100.\n",
        "Возвращаемое значение - вычисленное произведение.\n",
        "\n",
        "Комментарий. В случае, если n = 0, требуется вернуть 1.\n",
        "\n",
        "В этом задании функция print вам не понадобится. Результаты выполнения функций нужно возвращать, а не печатать!"
      ],
      "metadata": {
        "id": "kjenNhJtevuu"
      }
    },
    {
      "cell_type": "code",
      "source": [
        "def almost_double_factorial(n):\n",
        "  result = 1\n",
        "  if n !=0:\n",
        "    numbers = list(range(0,n+1))\n",
        "    for num in numbers:\n",
        "      if num%2!=0:\n",
        "        result *=num\n",
        "  return result"
      ],
      "metadata": {
        "id": "AM5MNCNxezVi"
      },
      "execution_count": 8,
      "outputs": []
    },
    {
      "cell_type": "markdown",
      "source": [
        "более изящние решение"
      ],
      "metadata": {
        "id": "niZSjm6wke00"
      }
    },
    {
      "cell_type": "code",
      "source": [
        "def almost_double_factorial2(n):\n",
        "  result = 1\n",
        "  for num in range(1, n+1, 2):\n",
        "    result *= num\n",
        "  return result"
      ],
      "metadata": {
        "id": "8Bw6hJLhkhqa"
      },
      "execution_count": null,
      "outputs": []
    }
  ]
}