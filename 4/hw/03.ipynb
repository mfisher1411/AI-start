{
  "nbformat": 4,
  "nbformat_minor": 0,
  "metadata": {
    "colab": {
      "provenance": []
    },
    "kernelspec": {
      "name": "python3",
      "display_name": "Python 3"
    },
    "language_info": {
      "name": "python"
    }
  },
  "cells": [
    {
      "cell_type": "markdown",
      "source": [
        "Реализуйте функцию cmp_prev(val), которая будет возвращать True , если значение val больше суммы двух предыдущих значений val при вызове той же функции, и False иначе."
      ],
      "metadata": {
        "id": "XsMbSab6MceC"
      }
    },
    {
      "cell_type": "code",
      "source": [
        "vals = [0,0]\n",
        "def cmp_prev(val):\n",
        "  global vals\n",
        "  vals.append(val)\n",
        "  return vals[-1] > vals[-2]+vals[-3]"
      ],
      "metadata": {
        "id": "Z-yd4NwEMgBP"
      },
      "execution_count": 37,
      "outputs": []
    },
    {
      "cell_type": "markdown",
      "source": [
        "самое короткое решение"
      ],
      "metadata": {
        "id": "Vmvk_M4DdYne"
      }
    },
    {
      "cell_type": "code",
      "source": [
        "values = []\n",
        "\n",
        "\n",
        "def cmp_prev(val):\n",
        "    values.append(val)\n",
        "    return val > sum(values[len(values) - 3:-1])"
      ],
      "metadata": {
        "id": "GPa_BNt9dgcO"
      },
      "execution_count": null,
      "outputs": []
    }
  ]
}