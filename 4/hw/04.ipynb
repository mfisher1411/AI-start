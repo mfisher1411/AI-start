{
  "nbformat": 4,
  "nbformat_minor": 0,
  "metadata": {
    "colab": {
      "provenance": []
    },
    "kernelspec": {
      "name": "python3",
      "display_name": "Python 3"
    },
    "language_info": {
      "name": "python"
    }
  },
  "cells": [
    {
      "cell_type": "code",
      "execution_count": 3,
      "metadata": {
        "id": "9WZMv-1hsuzH"
      },
      "outputs": [],
      "source": [
        "def func1(val):\n",
        "  pass\n",
        "\n",
        "def Set(func):\n",
        "    # YOUR CODE\n",
        "    global func1\n",
        "    func1 = func\n",
        "\n",
        "\n",
        "\n",
        "def Compute(string):\n",
        "    # YOUR CODE\n",
        "    global func1\n",
        "    func = func1(string)\n",
        "    return func # YOUR CODE"
      ]
    },
    {
      "cell_type": "markdown",
      "source": [
        "Реализуйте две функции:\n",
        "\n",
        "Set(func), которая будет обновлять некую функцию преобразования строки.\n",
        "Compute(string) которая будет рассчитывать и возвращать значение func(string)."
      ],
      "metadata": {
        "id": "7HISVp1Pyy6t"
      }
    },
    {
      "cell_type": "markdown",
      "source": [
        "Более простое решение"
      ],
      "metadata": {
        "id": "kkqkAJUHy6ss"
      }
    },
    {
      "cell_type": "code",
      "source": [
        "def Set(func_modyfied):\n",
        "    global func\n",
        "    func = func_modyfied\n",
        "def Compute(str):\n",
        "    return func(str)"
      ],
      "metadata": {
        "id": "_5NpHJtYy408"
      },
      "execution_count": null,
      "outputs": []
    }
  ]
}