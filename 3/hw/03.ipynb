{
  "nbformat": 4,
  "nbformat_minor": 0,
  "metadata": {
    "colab": {
      "provenance": []
    },
    "kernelspec": {
      "name": "python3",
      "display_name": "Python 3"
    },
    "language_info": {
      "name": "python"
    }
  },
  "cells": [
    {
      "cell_type": "markdown",
      "source": [
        "Дана строка из строчных букв английского алфавита. Необходимо найти количество пар букв 'a' и 'b', таких, что буква 'a' находится раньше 'b'.\n",
        "\n",
        "Дана строка: afbjab.\n",
        "\n",
        "Количество пар: 3"
      ],
      "metadata": {
        "id": "I-fPhtxLEdWm"
      }
    },
    {
      "cell_type": "code",
      "source": [
        "str1 = input()\n",
        "str1 = str1.lower()"
      ],
      "metadata": {
        "colab": {
          "base_uri": "https://localhost:8080/"
        },
        "id": "AuZ4lD53Srem",
        "outputId": "441d59a3-ff54-418a-ce38-59fdc033d0e0"
      },
      "execution_count": null,
      "outputs": [
        {
          "name": "stdout",
          "output_type": "stream",
          "text": [
            "afbjab\n"
          ]
        }
      ]
    },
    {
      "cell_type": "code",
      "source": [
        "dic_ab = {'a':[],'b':[]}"
      ],
      "metadata": {
        "id": "xzjcECR0TQMu"
      },
      "execution_count": null,
      "outputs": []
    },
    {
      "cell_type": "code",
      "source": [
        "for index,letter in enumerate(str1):\n",
        "  if letter == 'a':\n",
        "    dic_ab['a'].append(index)\n",
        "  elif letter == 'b':\n",
        "    dic_ab['b'].append(index)\n"
      ],
      "metadata": {
        "id": "4WnfD_CnTGQF"
      },
      "execution_count": null,
      "outputs": []
    },
    {
      "cell_type": "code",
      "source": [
        "dic_ab"
      ],
      "metadata": {
        "colab": {
          "base_uri": "https://localhost:8080/"
        },
        "id": "was1uH_xUxTy",
        "outputId": "eb673fb4-c6ae-44e6-c0a4-51eb9faa24e9"
      },
      "execution_count": null,
      "outputs": [
        {
          "output_type": "execute_result",
          "data": {
            "text/plain": [
              "{'a': [0, 4], 'b': [2, 5]}"
            ]
          },
          "metadata": {},
          "execution_count": 17
        }
      ]
    },
    {
      "cell_type": "code",
      "source": [
        "count = 0\n",
        "for i in dic_ab['a']:\n",
        "  for j in dic_ab['b']:\n",
        "    if i < j:\n",
        "      count+=1"
      ],
      "metadata": {
        "id": "7FOAmC8TVJdw"
      },
      "execution_count": null,
      "outputs": []
    },
    {
      "cell_type": "code",
      "source": [
        "count"
      ],
      "metadata": {
        "colab": {
          "base_uri": "https://localhost:8080/"
        },
        "id": "toKTDU7uVprZ",
        "outputId": "adbf9fdf-eb90-4a67-d69c-670932dd8700"
      },
      "execution_count": null,
      "outputs": [
        {
          "output_type": "execute_result",
          "data": {
            "text/plain": [
              "3"
            ]
          },
          "metadata": {},
          "execution_count": 19
        }
      ]
    }
  ]
}