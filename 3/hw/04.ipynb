{
  "nbformat": 4,
  "nbformat_minor": 0,
  "metadata": {
    "colab": {
      "provenance": []
    },
    "kernelspec": {
      "name": "python3",
      "display_name": "Python 3"
    },
    "language_info": {
      "name": "python"
    }
  },
  "cells": [
    {
      "cell_type": "markdown",
      "source": [
        "Дано число n⩽$10^5$\n",
        " . Найдите n-oe число Фиббоначчи. Так как это число может быть очень большим, выведите его остаток по модулю 1000000007."
      ],
      "metadata": {
        "id": "k-HOOmqWW84o"
      }
    },
    {
      "cell_type": "code",
      "source": [
        "n = int(input())"
      ],
      "metadata": {
        "colab": {
          "base_uri": "https://localhost:8080/"
        },
        "id": "YkHa6bXrXIZr",
        "outputId": "b41ebceb-fb9d-407d-d631-80c4a8f31f5c"
      },
      "execution_count": null,
      "outputs": [
        {
          "name": "stdout",
          "output_type": "stream",
          "text": [
            "5\n"
          ]
        }
      ]
    },
    {
      "cell_type": "code",
      "source": [
        "fib1 = 1\n",
        "fib2 = 1\n",
        "n = int(n)-2"
      ],
      "metadata": {
        "id": "VtGvrVl8_lsr"
      },
      "execution_count": null,
      "outputs": []
    },
    {
      "cell_type": "code",
      "source": [
        "while n > 0:\n",
        "  fib1,fib2 = fib2, fib1+fib2\n",
        "  n-=1"
      ],
      "metadata": {
        "id": "ixwR1fBhXQdQ"
      },
      "execution_count": null,
      "outputs": []
    },
    {
      "cell_type": "code",
      "source": [
        "print(fib2)"
      ],
      "metadata": {
        "colab": {
          "base_uri": "https://localhost:8080/"
        },
        "id": "8d1SmBiUYHWC",
        "outputId": "f4493071-d75c-484e-beb8-7882b0d97434"
      },
      "execution_count": null,
      "outputs": [
        {
          "output_type": "stream",
          "name": "stdout",
          "text": [
            "5\n"
          ]
        }
      ]
    }
  ]
}