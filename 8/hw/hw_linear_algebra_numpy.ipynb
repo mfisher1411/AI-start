{
  "nbformat": 4,
  "nbformat_minor": 0,
  "metadata": {
    "colab": {
      "provenance": []
    },
    "kernelspec": {
      "name": "python3",
      "display_name": "Python 3"
    },
    "language_info": {
      "name": "python"
    }
  },
  "cells": [
    {
      "cell_type": "markdown",
      "source": [
        "# Домашнее задание. Линейная алгебра и библиотека NumPy\n",
        "В этом домашнем задании вам предстоит самостоятельно реализовать линейно-алгебраические операции с помощью чистого Python, а затем попрактиковаться в использовании уже готовых реализаций из numpy. Кроме того, вы сравните время работы вашей реализации с реализацией из библиотеки NumPy и убедитесь, что скорость работы \"коробочных\" реализаций выше."
      ],
      "metadata": {
        "id": "8HLE1cJ9k6HW"
      }
    },
    {
      "cell_type": "code",
      "metadata": {
        "id": "YEJ8DQ4QK7kx"
      },
      "source": [
        "import numpy as np\n",
        "import random\n",
        "import scipy.stats as sps"
      ],
      "execution_count": 1,
      "outputs": []
    },
    {
      "cell_type": "markdown",
      "metadata": {
        "id": "BCemQSq-aEbO"
      },
      "source": [
        "## Задание 1\n",
        "Вам подаются на вход два вектора `a` и `b` в трехмерном пространстве. Заполните их случайными числами. Реализуйте их скалярное произведение с помощью  `NumPy` и без. Засеките время работы, как это показано в заданиях выше."
      ]
    },
    {
      "cell_type": "code",
      "metadata": {
        "id": "lWhr_gPSZ9o_",
        "colab": {
          "base_uri": "https://localhost:8080/"
        },
        "outputId": "ec875c88-7b21-4617-b4f9-75c5924e1a10"
      },
      "source": [
        "a = np.random.sample((1, 3))\n",
        "a = list(a)[0]\n",
        "b = np.random.sample((1, 3))\n",
        "b = list(b)[0]\n",
        "print(a, b)"
      ],
      "execution_count": 2,
      "outputs": [
        {
          "output_type": "stream",
          "name": "stdout",
          "text": [
            "[0.56039333 0.85014397 0.67299879] [0.84880294 0.2486955  0.00120547]\n"
          ]
        }
      ]
    },
    {
      "cell_type": "code",
      "metadata": {
        "id": "GjlkcHIWZ_ae"
      },
      "source": [
        "def scalar_product(a, b):\n",
        "    \"\"\"  \n",
        "    a: np.array[, n] --- первая матрица-аргумент длиной n\n",
        "    b: np.array[, n] --- вторая матрица-аргумент длиной n\n",
        "    return c: float  --- результат скалярного произведения векторов a и b\n",
        "\n",
        "    Функция принимает на вход два вектора длиной n\n",
        "    Возвращает число, равное их скалярному произведению a x b = c \n",
        "\n",
        "    Реализуйте скалярное умножение векторов, не используя функции из пакета numpy\n",
        "\n",
        "    \"\"\"\n",
        "    result = 0 \n",
        "    for elem_a, elem_b in zip(a,b):\n",
        "      result += elem_a*elem_b\n",
        "\n",
        "\n",
        "    return result"
      ],
      "execution_count": 3,
      "outputs": []
    },
    {
      "cell_type": "code",
      "metadata": {
        "id": "C2M-OAp5Z_6a"
      },
      "source": [
        "def np_scalar_product(a,b):\n",
        "    \"\"\"  \n",
        "    a: np.array[, n] --- первая матрица-аргумент\n",
        "    b: np.array[, n] --- вторая матрица-аргумент\n",
        "    return c: float  --- результат скалярного произведения векторов a и b\n",
        "\n",
        "    Функция принимает на вход два вектора длиной n\n",
        "    Возвращает число, равное их скалярному произведению a x b = c \n",
        "\n",
        "    Реализуйте скалярное умножение векторов, используя функции из пакета numpy\n",
        "    \"\"\" \n",
        "    return a @ b"
      ],
      "execution_count": 4,
      "outputs": []
    },
    {
      "cell_type": "code",
      "metadata": {
        "id": "BOQfYf-2aCQJ",
        "scrolled": true,
        "colab": {
          "base_uri": "https://localhost:8080/"
        },
        "outputId": "861787be-da8e-4a68-824b-3a47ae38828c"
      },
      "source": [
        "%time product_1 = scalar_product(a,b)\n",
        "%time product_2 = np_scalar_product(a,b)\n",
        "\n",
        "# проверим корректность:\n",
        "assert np.allclose(product_1, product_2)"
      ],
      "execution_count": 5,
      "outputs": [
        {
          "output_type": "stream",
          "name": "stdout",
          "text": [
            "CPU times: user 38 µs, sys: 0 ns, total: 38 µs\n",
            "Wall time: 44.3 µs\n",
            "CPU times: user 122 µs, sys: 0 ns, total: 122 µs\n",
            "Wall time: 266 µs\n"
          ]
        }
      ]
    },
    {
      "cell_type": "markdown",
      "source": [
        "первую функцию можно записать короче"
      ],
      "metadata": {
        "id": "iqQvAFjJUeUE"
      }
    },
    {
      "cell_type": "code",
      "source": [
        "import numpy as np\n",
        "\n",
        "def no_numpy_scalar(v1, v2):\n",
        "    #param v1, v2: lists of 3 ints\n",
        "    #YOUR CODE: please do not use numpy\n",
        "\n",
        "    result = sum([x*y for x,y in zip(v1,v2)]) \n",
        "    return result\n",
        "\n",
        "def numpy_scalar (v1, v2):\n",
        "    #param v1, v2: np.arrays[3]\n",
        "    #YOUR CODE\n",
        "\n",
        "    result = v1 @ v2\n",
        "    return result"
      ],
      "metadata": {
        "id": "T9D3sWUGUh7C"
      },
      "execution_count": null,
      "outputs": []
    },
    {
      "cell_type": "markdown",
      "metadata": {
        "id": "hYXhVX0eK7k2"
      },
      "source": [
        "## Задание 2\n",
        "Вам предлагается перемножить две квадратные матрицы двумя способами -- без использования пакета `numpy` и с ним."
      ]
    },
    {
      "cell_type": "code",
      "metadata": {
        "id": "zJR8EANzK7k3",
        "colab": {
          "base_uri": "https://localhost:8080/"
        },
        "outputId": "928e609d-9f6b-4611-b37e-beed2830b657"
      },
      "source": [
        "# Для генерации матриц используем фукнцию random -- она используется для генерации случайных объектов \n",
        "# функция sample создает случайную выборку. В качестве аргумента ей передается кортеж (i,j),  \n",
        "# здесь i -- число строк, j -- число столбцов.\n",
        "a = np.random.sample((100, 100))\n",
        "b = np.random.sample((100, 100))\n",
        "\n",
        "# Выведите размерность (ранг) каждой матрицы с помощью функции ndim.\n",
        "# Используйте функцию shape, что она вывела?\n",
        "\n",
        "# ========\n",
        "# Ваш код здесь\n",
        "# ========\n",
        "print(a)\n",
        "print(b)"
      ],
      "execution_count": 24,
      "outputs": [
        {
          "output_type": "stream",
          "name": "stdout",
          "text": [
            "[[0.78709037 0.18095205 0.79456718 ... 0.02024787 0.07058279 0.61065367]\n",
            " [0.44155693 0.75901836 0.41909733 ... 0.90831727 0.66170333 0.27255696]\n",
            " [0.70364662 0.09860743 0.52384336 ... 0.54326285 0.52393037 0.27584936]\n",
            " ...\n",
            " [0.04592494 0.6733872  0.11535892 ... 0.50195221 0.55526378 0.90368276]\n",
            " [0.04224572 0.58590602 0.84590377 ... 0.56266781 0.03771148 0.55489097]\n",
            " [0.47391871 0.27646178 0.6167138  ... 0.70087705 0.70903451 0.33528185]]\n",
            "[[0.25902281 0.63118699 0.67316305 ... 0.87804915 0.92438947 0.77068109]\n",
            " [0.15817314 0.38992333 0.95223028 ... 0.14143723 0.05908903 0.80698201]\n",
            " [0.71311721 0.28573491 0.95338781 ... 0.21354748 0.74825792 0.78778404]\n",
            " ...\n",
            " [0.56419123 0.7574567  0.5188097  ... 0.72744554 0.3822005  0.57878215]\n",
            " [0.50326475 0.11637867 0.03986345 ... 0.83597498 0.12956111 0.87964234]\n",
            " [0.06193721 0.0263053  0.32977178 ... 0.17800584 0.85633973 0.09004359]]\n"
          ]
        }
      ]
    },
    {
      "cell_type": "code",
      "source": [
        "print(a.ndim)\n",
        "print(b.ndim)"
      ],
      "metadata": {
        "colab": {
          "base_uri": "https://localhost:8080/"
        },
        "id": "_AVIVLCmVl_6",
        "outputId": "e14159d2-10f5-4ba8-e057-c805587449c3"
      },
      "execution_count": 25,
      "outputs": [
        {
          "output_type": "stream",
          "name": "stdout",
          "text": [
            "2\n",
            "2\n"
          ]
        }
      ]
    },
    {
      "cell_type": "code",
      "source": [
        "print(a.shape)\n",
        "print(b.shape)"
      ],
      "metadata": {
        "colab": {
          "base_uri": "https://localhost:8080/"
        },
        "id": "ucHAeH3uVwIe",
        "outputId": "edf5e202-4375-4f63-d503-024e8121f563"
      },
      "execution_count": 26,
      "outputs": [
        {
          "output_type": "stream",
          "name": "stdout",
          "text": [
            "(100, 100)\n",
            "(100, 100)\n"
          ]
        }
      ]
    },
    {
      "cell_type": "code",
      "metadata": {
        "id": "bkWCI4TPK7k8"
      },
      "source": [
        "def mult(a, b):\n",
        "    \"\"\"  \n",
        "    a: list of \"size\" lists, each contains \"size\" floats --- первая матрица-аргумент\n",
        "    b: list of \"size\" lists, each contains \"size\" floats --- вторая матрица-аргумент\n",
        "    return c: list of \"size\" lists, each contains \"size\" floats --- матрица, являющаяся результатом умножения матриц a и b\n",
        "    \n",
        "    Функция принимает на вход две матрицы: a и b размерностью size x size\n",
        "    Возвращает матрицу их произведения a * b = c \n",
        "\n",
        "    Реализуйте умножение матриц без использования функций из пакета numpy\n",
        "    \"\"\"\n",
        "    result = []\n",
        "    size = a.shape[0]\n",
        "    for i in range(size):\n",
        "      for j in range(size):\n",
        "        #print(a[i])\n",
        "        #print(b[:,j])\n",
        "        sum = []\n",
        "        sum = [x*y for x,y in zip(a[i], b[:,j])]\n",
        "        #print(type(sum))\n",
        "        #print(sum)\n",
        "        result_sum = 0\n",
        "        for el in sum:\n",
        "        #print(el)\n",
        "          result_sum += el\n",
        "        result.append(result_sum)\n",
        "    return np.array(result).reshape(size,size)\n",
        "    "
      ],
      "execution_count": 27,
      "outputs": []
    },
    {
      "cell_type": "code",
      "metadata": {
        "id": "IIgYD1W5K7lB"
      },
      "source": [
        "def np_mult(a, b):\n",
        "    \"\"\"  \n",
        "    a: np.array[size, size]              --- первая матрица-аргумент\n",
        "    b: np.array[size, size]              --- вторая матрица-аргумент\n",
        "    return c: np.array[size, size]       --- матрица, являющаяся результатом умножения матриц a и b\n",
        "    \n",
        "    Функция принимает на вход две матрицы: a и b размерностью size x size\n",
        "    Возвращает матрицу их произведения a * b = c \n",
        "\n",
        "    Реализуйте умножение матриц, используя функции из пакета numpy\n",
        "    \"\"\"\n",
        "    return a@b"
      ],
      "execution_count": 28,
      "outputs": []
    },
    {
      "cell_type": "code",
      "metadata": {
        "id": "tktkYzUHK7lE",
        "colab": {
          "base_uri": "https://localhost:8080/"
        },
        "outputId": "ccaec30e-1a66-4eaf-c14c-d3573f490eb5"
      },
      "source": [
        "%%time\n",
        "# засечем время работы функции без NumPy\n",
        "M1 = mult(a, b)"
      ],
      "execution_count": 29,
      "outputs": [
        {
          "output_type": "stream",
          "name": "stdout",
          "text": [
            "CPU times: user 313 ms, sys: 0 ns, total: 313 ms\n",
            "Wall time: 315 ms\n"
          ]
        }
      ]
    },
    {
      "cell_type": "code",
      "source": [
        "M1.shape"
      ],
      "metadata": {
        "colab": {
          "base_uri": "https://localhost:8080/"
        },
        "id": "iCdB5shEGfkp",
        "outputId": "f2d5b74f-4bb3-45e0-93b3-8cf590b9df18"
      },
      "execution_count": 30,
      "outputs": [
        {
          "output_type": "execute_result",
          "data": {
            "text/plain": [
              "(100, 100)"
            ]
          },
          "metadata": {},
          "execution_count": 30
        }
      ]
    },
    {
      "cell_type": "code",
      "source": [
        "list(M1)"
      ],
      "metadata": {
        "id": "M8-8HTYLJSlh"
      },
      "execution_count": null,
      "outputs": []
    },
    {
      "cell_type": "code",
      "source": [
        "M1[:5,:5]"
      ],
      "metadata": {
        "id": "ru9l48DrGmA6"
      },
      "execution_count": null,
      "outputs": []
    },
    {
      "cell_type": "code",
      "source": [
        "M2[:5,:5]"
      ],
      "metadata": {
        "id": "SdIf763xGs6G"
      },
      "execution_count": null,
      "outputs": []
    },
    {
      "cell_type": "code",
      "metadata": {
        "id": "TmD0adgHK7lK",
        "colab": {
          "base_uri": "https://localhost:8080/"
        },
        "outputId": "fa23599b-db11-46e1-fd84-c7df812de0f1"
      },
      "source": [
        "%%time\n",
        "# засечем время работы функции с NumPy\n",
        "M2 = np_mult(a, b)"
      ],
      "execution_count": 34,
      "outputs": [
        {
          "output_type": "stream",
          "name": "stdout",
          "text": [
            "CPU times: user 544 µs, sys: 3.03 ms, total: 3.58 ms\n",
            "Wall time: 10.8 ms\n"
          ]
        }
      ]
    },
    {
      "cell_type": "code",
      "source": [
        "M2.shape"
      ],
      "metadata": {
        "colab": {
          "base_uri": "https://localhost:8080/"
        },
        "id": "mcnT-tsJGjJ_",
        "outputId": "8243eed3-5fed-48e1-d08c-c3d186fe6d1d"
      },
      "execution_count": 36,
      "outputs": [
        {
          "output_type": "execute_result",
          "data": {
            "text/plain": [
              "(100, 100)"
            ]
          },
          "metadata": {},
          "execution_count": 36
        }
      ]
    },
    {
      "cell_type": "code",
      "metadata": {
        "id": "oftqyANQK7lS"
      },
      "source": [
        "# проверим корректность\n",
        "assert np.allclose(np.array(M1), M2)"
      ],
      "execution_count": 37,
      "outputs": []
    },
    {
      "cell_type": "markdown",
      "source": [
        "Напишите две функции, каждая из которых перемножает две квадратные матрицы: одна без использования встроенных функций numpy, а другая --- с помощью numpy. На вход первой задаче подаются списки размера size по size элементов в каждом. На вход второй задаче подаются объекты типа np.ndarray --- квадратные матрицы одинакового размера. \n",
        "\n",
        "Первая функция должна возвращать список списков, а вторая -- np.array."
      ],
      "metadata": {
        "id": "tamq5ug2AQ4V"
      }
    },
    {
      "cell_type": "code",
      "source": [
        "import numpy as np\n",
        "\n",
        "def no_numpy_mult(first, second):\n",
        "    \"\"\"\n",
        "    param first: list of \"size\" lists, each contains \"size\" floats\n",
        "    param second: list of \"size\" lists, each contains \"size\" floats\n",
        "    \"\"\"\n",
        "    second_T = []\n",
        "    for i in range(len(second)):\n",
        "        array_str = []\n",
        "        for j in range(len(second)):\n",
        "            array_str.append(second[j][i])\n",
        "        second_T.append(array_str)    \n",
        "    \n",
        "\n",
        "    #YOUR CODE: please do not use numpy\n",
        "    result = []\n",
        "    size = len(first)\n",
        "    for i in range(size):\n",
        "        result_str = []\n",
        "        for j in range(size):\n",
        "        #print(a[i])\n",
        "        #print(b[:,j])\n",
        "            sum = 0\n",
        "            sum = [x*y for x,y in zip(first[i], second_T[j])]\n",
        "            #print(type(sum))\n",
        "            #print(sum)\n",
        "            result_sum = 0\n",
        "            for el in sum:\n",
        "                #print(el)\n",
        "                result_sum += el\n",
        "            result_str.append(result_sum)\n",
        "        result.append(result_str) #YOUR CODE: create list of lists, not np.array\n",
        "    return result\n",
        "\n",
        "def numpy_mult(first, second):\n",
        "    \"\"\"\n",
        "    param first: np.array[size, size]\n",
        "    param second: np.array[size, size]\n",
        "    \"\"\"\n",
        "\n",
        "    #YOUR CODE: please use numpy\n",
        "\n",
        "    result = first@second #YOUR CODE: create np.array\n",
        "    return result"
      ],
      "metadata": {
        "id": "kGfLrVY7AZAo"
      },
      "execution_count": null,
      "outputs": []
    },
    {
      "cell_type": "markdown",
      "source": [
        "более изящное решение"
      ],
      "metadata": {
        "id": "p0mJjsUdAm12"
      }
    },
    {
      "cell_type": "code",
      "source": [
        "import numpy as np\n",
        "\n",
        "def no_numpy_mult(a, b):\n",
        "    return [[sum(a[i][k]*b[k][j] for k in range(len(a))) for j in range(len(a))] for i in range(len(a))]\n",
        "\n",
        "def numpy_mult(first, second):\n",
        "    return first @ second"
      ],
      "metadata": {
        "id": "X_xz0vs-ApE3"
      },
      "execution_count": 38,
      "outputs": []
    },
    {
      "cell_type": "markdown",
      "source": [
        "## Задание 3\n",
        "Постановка задачи линейной регрессии, о которой мы будем говорить в следующих модулях, выглядит так.\n",
        "\n",
        "**Дано**: матрица $X$ размера $\\ell \\times n$ и вектор $y$ размерности $\\ell$. \n",
        "\n",
        "**Необходимо**: подобрать вектор $w$ размерности $n$, для которого выражение $||Xw - y||^2_2$ будет минимально возможным, где $||a||_2^2$ --- квадрат нормы вектора $a$, то есть сумма квадратов компонент вектора $a$.\n",
        "\n",
        "Даны матрица $X$ и векторы $w$, $y$. Напишите функцию, которая находит значение выражения $||Xw - y||^2_2$. Используйте библиотеку `numpy` и ее встроенные функции. Предлагаем вам загуглить, как вычислять норму вектора с помощью `numpy`. **Следите за правильными размерностями при применении линейно-алгебраических операций!**"
      ],
      "metadata": {
        "id": "EVZ5Hl12mHrR"
      }
    },
    {
      "cell_type": "code",
      "source": [
        "def calculate_loss_function(X, w, y):\n",
        "    #YOUR CODE\n",
        "    b = X.dot(w) - y\n",
        "\n",
        "    return np.sum(b**2) #YOUR CODE"
      ],
      "metadata": {
        "id": "PymsXAMCmHDr"
      },
      "execution_count": 40,
      "outputs": []
    },
    {
      "cell_type": "code",
      "source": [
        "# test\n",
        "X = np.array([1,2,3,4,5,6]).reshape(3, 2)\n",
        "w = np.array([0.5, -1.2])\n",
        "y = np.array([2, -1, 0])\n",
        "\n",
        "assert np.allclose(calculate_loss_function(X, w, y), 42.58999999999999)"
      ],
      "metadata": {
        "id": "Cb1kDQTDmB98"
      },
      "execution_count": 43,
      "outputs": []
    },
    {
      "cell_type": "code",
      "source": [
        "calculate_loss_function(X,w,y)"
      ],
      "metadata": {
        "colab": {
          "base_uri": "https://localhost:8080/"
        },
        "id": "LnaPgA9vw48q",
        "outputId": "03d56a3a-e198-41ec-ed89-bed5cde21fd1"
      },
      "execution_count": 42,
      "outputs": [
        {
          "output_type": "execute_result",
          "data": {
            "text/plain": [
              "42.58999999999999"
            ]
          },
          "metadata": {},
          "execution_count": 42
        }
      ]
    },
    {
      "cell_type": "markdown",
      "source": [
        "## Задание 4\n",
        "В случае, если ранг матрицы $X$ превосходит $n$, минимальное значение выражения $||Xw - y||^2_2$ при данных $X$ и $y$ достигается на векторе $$w^{*} = (X^{\\top}X)^{-1}X^{\\top}y.$$ \n",
        "\n",
        "Даны матрица $X$ размера $\\ell \\times n$ и вектор $y$ размера $\\ell$. Вычислите значение выражения $W^{*}$ по формуле, указанной выше. Используйте встроенные матричные операции в `numpy`: матричное произведение, транспонирование, вычисление обратной матрицы. Верните на выход одномерный np.array. **Следите за правильными размерностями при применении линейно-алгебраических операций!**"
      ],
      "metadata": {
        "id": "lZW2h1aepDIy"
      }
    },
    {
      "cell_type": "code",
      "source": [
        "def solve_linear_regression(X, y):\n",
        "    #YOUR_CODE\n",
        "    w_opt = np.linalg.inv(X.T.dot(X)).dot(X.T).dot(y) #YOUR CODE\n",
        "    \n",
        "    return w_opt"
      ],
      "metadata": {
        "id": "vgGZLWQ0q-wr"
      },
      "execution_count": 44,
      "outputs": []
    },
    {
      "cell_type": "code",
      "source": [
        "#test\n",
        "X = np.array([1,2,3,4,5,6]).reshape(3, 2)\n",
        "y = np.array([2, -1, 0])\n",
        "\n",
        "assert np.allclose(solve_linear_regression(X, y), np.array([-2.33333333,  1.83333333]))\n"
      ],
      "metadata": {
        "id": "M-r5ac1yrFYB"
      },
      "execution_count": 45,
      "outputs": []
    },
    {
      "cell_type": "code",
      "source": [],
      "metadata": {
        "id": "KuB2uw4szn3M"
      },
      "execution_count": null,
      "outputs": []
    }
  ]
}